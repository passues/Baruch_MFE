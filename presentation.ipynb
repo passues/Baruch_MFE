{
 "cells": [
  {
   "cell_type": "markdown",
   "metadata": {
    "slideshow": {
     "slide_type": "slide"
    }
   },
   "source": [
    "## Algorithm Trading Service"
   ]
  },
  {
   "cell_type": "markdown",
   "metadata": {
    "slideshow": {
     "slide_type": "slide"
    }
   },
   "source": [
    "## Business"
   ]
  },
  {
   "cell_type": "markdown",
   "metadata": {
    "slideshow": {
     "slide_type": "slide"
    }
   },
   "source": [
    "### How IB make money\n",
    "- IBs help clients buy or sell financial instruments and charge commissions ( Agency Trading, no risk inside)\n",
    "- IBs make market, they trade with clients and gain the bid-ask spread( Principal Trading, holding risk)\n",
    "\n",
    "Nowadays, everything is trying to move to electronic platform. Commission dropped, spread becomes tigher and tigher. Market making business is not easy for IB to make money. Especially in equity market."
   ]
  },
  {
   "cell_type": "markdown",
   "metadata": {
    "slideshow": {
     "slide_type": "slide"
    }
   },
   "source": [
    "### Sell side equity business\n",
    "Barclays\n",
    "- Derivatives, valina option and exotic option trading\n",
    "\n",
    "- Equity Financing, prime brokerage security lending\n",
    "\n",
    "- Cash Equity\n",
    "\n",
    "    - High Touch Trading (Human sell side trader help clients execute big orders)\n",
    "    \n",
    "    - Low Touch Trading (Electronic access to all exchanges liquidity)\n",
    "    \n",
    "    - Program Trading (Portfolio execution)\n",
    "    \n",
    "- Central Risk Book (Internal centrialized liquidity) "
   ]
  },
  {
   "cell_type": "markdown",
   "metadata": {
    "slideshow": {
     "slide_type": "slide"
    }
   },
   "source": [
    "## Market Structure"
   ]
  },
  {
   "cell_type": "markdown",
   "metadata": {
    "slideshow": {
     "slide_type": "slide"
    }
   },
   "source": [
    "### Algorithm Trading Workflow\n",
    "\n",
    "In US, almost all equities are trading through exchanges. Which means in the end, everything is electronic trading. Our desk is helping client find liquidity from different exchanges. Usually for a small buyside, they can afford all license fees for all exchanges. They need a sell side agent to help them access all exchanges and liquidity. We call it broker-dealer. In equity world, banks are not focus on market making business anymore. They are mostly brokers. \n",
    "<h2><img src=\"./algo_design_plot.png\" align = \"center\" width=750></h2>\n",
    "<hr></hr>\n",
    "<sup id=\"fn1\">Picture is from Barclays public marketing documents<a href=\"https://www.investmentbank.barclays.com/content/dam/barclaysmicrosites/ibpublic/documents/investment-bank/equities/Barclays_Order%20Handling%20Overview_Jan%202018.pdf\" title=\"Jump back to footnote 1 in the text.\">↩</a></sup>"
   ]
  },
  {
   "cell_type": "markdown",
   "metadata": {
    "slideshow": {
     "slide_type": "slide"
    }
   },
   "source": [
    "### Venues Introduction\n",
    "Veneus classification, all of them are trading electronically\n",
    "1. Regular Venues\n",
    "2. Dark Pool( ATS )\n",
    "3. IOI(Broker Dealer off exchange venues)"
   ]
  },
  {
   "cell_type": "markdown",
   "metadata": {
    "slideshow": {
     "slide_type": "slide"
    }
   },
   "source": [
    "<h2><img src=\"./venues.png\" align = \"center\" width=600, height=500></h2>\n",
    "<hr></hr>\n",
    "<sup id=\"fn1\">Picture is from Barclays public marketing documents<a href=\"https://www.investmentbank.barclays.com/content/dam/barclaysmicrosites/ibpublic/documents/investment-bank/equities/Barclays_FAQs%20Barclays%20New%20Smart%20Order%20Router_US_May%202018_web.pdf\" title=\"Jump back to footnote 1 in the text.\">↩</a></sup>"
   ]
  },
  {
   "cell_type": "markdown",
   "metadata": {
    "slideshow": {
     "slide_type": "slide"
    }
   },
   "source": [
    "### Order Book\n",
    "#### BATS (BZX) order book for MSFT\n",
    "\n",
    "\n",
    "<h2><img src=\"http://mfe.baruch.cuny.edu/wp-content/uploads/2016/01/BZX_MSFT.png\" align = \"center\" width=750></h2>\n"
   ]
  },
  {
   "cell_type": "markdown",
   "metadata": {
    "slideshow": {
     "slide_type": "slide"
    }
   },
   "source": [
    "#### BATS (BYX) order book for MSFT\n",
    "\n",
    "<h2><img src=\"http://mfe.baruch.cuny.edu/wp-content/uploads/2016/01/BYX_MSFT.png\" align = \"center\" width=750></h2>\n"
   ]
  },
  {
   "cell_type": "markdown",
   "metadata": {
    "slideshow": {
     "slide_type": "slide"
    }
   },
   "source": [
    "### Quant Problems\n",
    "-  Order splitting and scheduler\n",
    "-  Smart Order Router"
   ]
  },
  {
   "cell_type": "markdown",
   "metadata": {
    "slideshow": {
     "slide_type": "slide"
    }
   },
   "source": [
    "### Order Splitting and Scheduler\n",
    "\n",
    "When you have a request to execute a very large quantity of a specific symbol. Say 100k shares in MSFT. You need to split and order into small piece and have a schedule to execute those small pieces. This is a typical optimization problem but required some empircal observation\n",
    "\n",
    "### Empirical market impact profiles from [Bacry et al.]<sup id=\"cite_ref-BacryIuga\" class=\"reference\"><a href=\"#cite_note-BacryIuga\"><span>[</span>1<span>]</span></a></sup> \n",
    "\n",
    "\n",
    "<h2><img src=\"http://mfe.baruch.cuny.edu/wp-content/uploads/2017/04/BacryFigure8.png\" align = \"center\" width=1200></h2>"
   ]
  },
  {
   "cell_type": "markdown",
   "metadata": {
    "slideshow": {
     "slide_type": "slide"
    }
   },
   "source": [
    "### Solution to schedule problem\n",
    "\n",
    "#### Time based scheduler\n",
    "- TWAP\n",
    "\n",
    "#### Volume based scheduler\n",
    "- VWAP\n",
    "- Percentage of Volume\n",
    "\n",
    "#### Price based scheduler\n",
    "- Implementation Shortfall \n"
   ]
  },
  {
   "cell_type": "markdown",
   "metadata": {
    "slideshow": {
     "slide_type": "slide"
    }
   },
   "source": [
    "### Technical Details\n",
    "\n",
    "#### Volume base algorithm\n",
    "You need to have a good prediction about the volume profile for all symbols, both short term (1-5 minutes and EOD day total volume)\n",
    "#### Implementation Shortfall\n",
    "\n",
    "-   Following [Gatheral]<sup id=\"cite_ref-Gatheral\" class=\"reference\"><a href=\"#cite_note-Gatheral\"><span>[</span>2<span>]</span></a></sup>, suppose that the stock price $S_t$ at time $t$\n",
    "    is given by\n",
    "    \n",
    "    <a name=\"eq:process\"></a>\n",
    "\n",
    "    $$S_t=S_0+\\int_0^t\\,f(\\dot{x}_s)\\,G(t-s)\\,ds+\\int_0^t\\,\\sigma\\,dZ_s$$\n",
    "\n",
    "    where ${\\dot x}_s$ is our rate of trading in dollars at time $s<t$,\n",
    "    $f(\\dot{x}_s)$ represents the impact of trading at time $s$ and\n",
    "    $G(t-s)$ is a decay factor (or propagator).\n",
    "    \n",
    "    #### Cost of trading\n",
    "\n",
    "-   Denote the number of shares outstanding at time $t$ by $x_t$. Then\n",
    "    from [(2)](#eq:process), neglecting slippage, the (expected) cost $C[\\Pi]$\n",
    "    associated with a given (deterministic) trading strategy $\\Pi=\\{x_t\\}$ is given by\n",
    "\n",
    "    <a name=\"eq:cost\"></a>\n",
    "    $$C[\\Pi]=\\int_0^T\\,{\\dot x}_t\\,dt\\,\\int_0^t\\,f\\left({\\dot\n",
    "    x}_s\\right)\\,G(t-s)\\,ds$$"
   ]
  },
  {
   "cell_type": "markdown",
   "metadata": {
    "slideshow": {
     "slide_type": "slide"
    }
   },
   "source": [
    "### Smart Order Router\n",
    "#### Basic problem\n",
    "- Choose the right order type for your execution and choose venue you should go to\n",
    "\n",
    "#### IOC orders\n",
    "- Market order, immediate fill or cancel. You can gaurantee to fill if you don't put price limit on the order. Large Impact\n",
    "\n",
    "#### Limit orders\n",
    "\n",
    "- Limit order, post you order to order book at a certain price level. It can be visible or hidden. It's not gauranteed to fill. But you don't have to across the spread, relatively lower impact\n",
    "\n",
    "#### Peg orders\n",
    "\n",
    "- In most case, peg order means to execute at mid price. It could be both dark pool and regular venues like NYSE. Typically, I think peg order impact is the smallest.\n",
    "\n",
    "#### Examples\n",
    "-   [Cont and Kukanov]<sup id=\"cite_ref-ContKukanov\" class=\"reference\"><a href=\"#cite_note-ContKukanov\"><span>[</span>3<span>]</span></a></sup> recently developed an elegant engineering approach to\n",
    "    this problem that is practical to implement."
   ]
  },
  {
   "cell_type": "markdown",
   "metadata": {
    "slideshow": {
     "slide_type": "slide"
    }
   },
   "source": [
    "### Decision factors\n",
    "\n",
    "#### Price prediction\n",
    "\n",
    "   - You want to know what's going to happen in the next 10s - 1mins. It's not magic, order book imbalance is a good predictor\n",
    "   \n",
    "   - Other factors like real time news data could help. \n",
    "\n",
    "#### Market impact\n",
    "\n",
    "- Market impact if you place a certain type of order in a specific venue\n",
    "\n",
    "#### Probability of fill\n",
    "- Even though the price looks very good, you need think about the probability to fill that order. Because everyone wants to get good price. The better the price and liquidity are, generally, the lower the probability of fill will be.\n"
   ]
  },
  {
   "cell_type": "markdown",
   "metadata": {
    "slideshow": {
     "slide_type": "slide"
    }
   },
   "source": [
    "### Job Market"
   ]
  },
  {
   "cell_type": "markdown",
   "metadata": {
    "slideshow": {
     "slide_type": "slide"
    }
   },
   "source": [
    "### Investment banks\n",
    "- JPMorgan Chase Bank - JPMX  (JPM Linear Quantitative Research)\n",
    "- Barclays Capital - LX Liquidity Cross (Statistical Modeling and Development)\n",
    "- Citigroup|Citi - Citi Match, Citi Cross \n",
    "- Credit Agricole Cheuvreux - BLINK\n",
    "- Credit Suisse - CrossFinder (AES)\n",
    "- Deutsche Bank Global Markets - DBA (Europe), SuperX ATS (U.S.)\n",
    "- Fidelity Investments|Fidelity Capital Markets\n",
    "- Goldman Sachs SIGMA X (GSET)\n",
    "- Knight Capital Group - Knight Link, Knight Match (KCG -> Virtu)\n",
    "- Merrill Lynch - Instinct-X (Quantitative Strategy Group)\n",
    "- Morgan Stanley - MSPOOL (Strats)\n",
    "- Nomura Securities Co.|Nomura - Nomura NX \n",
    "- UBS AG|UBS Investment Bank - UBS ATS, UBS MTF, UBS PIN\n",
    "\n",
    "### Buyside\n",
    "- Citadel (Algorithmic execution service business)\n",
    "- Point72 (Internal Broker)\n",
    "- Engineers Gate (Internal Broker)\n",
    "- AQR (AQR Global Trading Strategies group)\n",
    "- Alliance Berstein\n",
    "\n",
    "### Central Risk Book Team\n",
    "It's very hot now\n",
    "\n",
    "JPM, GS, Citi, Barclay are people aggressively to build central risk book team. Also buyside like Citadel, Point72, Millennium.\n",
    "\n"
   ]
  },
  {
   "cell_type": "markdown",
   "metadata": {
    "slideshow": {
     "slide_type": "slide"
    }
   },
   "source": [
    "### Skill Set\n",
    "- Coding\n",
    "    - C++/Java, some teams require quant to write production code which is going to be C++ or JAVA. \n",
    "    - Python, most teams use python to do data analysis now. Research code also needs to be standardized.\n",
    "- Statistics\n",
    "    - Deep understanding about fundamental statistics like, statistical test, regression, statistical inference, regularization techniques. \n",
    "    \n",
    "- Market Microsture\n",
    "    - This is not required, but very helpful. \n",
    "    \n",
    "- Deep learning?\n",
    "    - This is not required. Some teams have preference on this.\n",
    "    \n",
    "- Derivatives?\n",
    "    - You don't need this for equities. Option market making team need knowledge about derivatives pricing. But ultimately, it's all about modeling data.\n"
   ]
  },
  {
   "cell_type": "markdown",
   "metadata": {
    "slideshow": {
     "slide_type": "slide"
    }
   },
   "source": [
    "### Pros \n",
    "1. You will have pretty good research project\n",
    "2. Learn about very details knowledge for trading\n",
    "3. Job liquidity is pretty good (relatively easy to move to HFT)\n",
    "4. Job stability is pretty good\n",
    "\n",
    "### Cons \n",
    "1. Quant contribution is not directlly connected to PnL\n",
    "2. Some place is pretty political given the stable revenue\n",
    "3. The market is shrinking.\n",
    "4. It's a client relationship business\n"
   ]
  },
  {
   "cell_type": "markdown",
   "metadata": {
    "slideshow": {
     "slide_type": "slide"
    }
   },
   "source": [
    "### Other opportunities\n",
    "I think all e-trading jobs are pretty good. \n",
    "\n",
    "- Sell side market making business in Rates, FX, Credit and Commodities. (Except FX, others are very new and small)\n",
    "    - GS Systemmatic Market Making team\n",
    "    - Barclays Statistical Modeling & Development Group\n",
    "    - MS eFICC team\n",
    "    - JPM Automatica Trading Strategist\n",
    "    - BOA QSG e-trading team\n",
    "    - Citadel eFICC team\n",
    "    - Morgan Stanley, Barclays, Citi(OMM)\n",
    "    \n",
    "- Buyside market mamking business in Equities and Options (Not easy but very good, not easy to get into profitable team) \n",
    "    - Tower Research, KCG, Virtu, Citadel (EMM)\n",
    "    - Citadel, SIG, Optiver, IMC, Jump Trading, Akuna(OMM)\n",
    "- Many other parts which I am very familiar\n",
    "    - Two Sigma HFT, Jump Trading futures prop trading, DRW, Hudson River Trading"
   ]
  },
  {
   "cell_type": "markdown",
   "metadata": {
    "slideshow": {
     "slide_type": "slide"
    }
   },
   "source": [
    "### References\n",
    "\n",
    "<br />\n",
    "\n",
    "<div class=\"reflist\" style=\"list-style-type: decimal;\">\n",
    "\n",
    "<ol>\n",
    "  \n",
    "  <li id=\"cite_note-BacryIuga\"><span class=\"mw-cite-backlink\"><b><a href=\"#cite_ref-BacryIuga\">^</a></b></span>Emanuel Bacry, Adrian Iuga, Matthieu Lasnier, and Charles-Albert Lehalle, Market impacts and the life cycle of investors orders, *Market Microstructure and Liquidity* July 2005, 011550009 (2014).\n",
    "  </li>\n",
    "  \n",
    "  \n",
    "  \n",
    "  <li id=\"cite_note-Gatheral\"><span class=\"mw-cite-backlink\"><b><a href=\"#cite_ref-Gatheral\">^</a></b></span>Jim Gatheral, No-dynamic-arbitrage and market impact,\n",
    "<span>*Quantitative Finance*</span> <span>**10**</span>(7) 749–759\n",
    "(2010).\n",
    "  </li>\n",
    "  \n",
    "    <li id=\"cite_note-ContKukanov\"><span class=\"mw-cite-backlink\"><b><a href=\"#cite_ref-ContKukanov\">^</a></b></span>   Rama Cont and Arseniy Kukanov, Optimal order placement in limit order\n",
    "markets, \n",
    "*Quantitative Finance* **17**(1) 21-39 (2017).</li>\n",
    "  \n",
    "\n",
    "\n",
    "</ol>"
   ]
  }
 ],
 "metadata": {
  "celltoolbar": "Slideshow",
  "kernelspec": {
   "display_name": "Python 3",
   "language": "python",
   "name": "python3"
  },
  "language_info": {
   "codemirror_mode": {
    "name": "ipython",
    "version": 3
   },
   "file_extension": ".py",
   "mimetype": "text/x-python",
   "name": "python",
   "nbconvert_exporter": "python",
   "pygments_lexer": "ipython3",
   "version": "3.5.2"
  }
 },
 "nbformat": 4,
 "nbformat_minor": 2
}
